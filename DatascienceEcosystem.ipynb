{
  "nbformat": 4,
  "nbformat_minor": 0,
  "metadata": {
    "colab": {
      "provenance": []
    },
    "kernelspec": {
      "name": "python3",
      "display_name": "Python 3"
    },
    "language_info": {
      "name": "python"
    }
  },
  "cells": [
    {
      "cell_type": "markdown",
      "source": [
        "Data Science Tools and Ecosystem"
      ],
      "metadata": {
        "id": "dKOaaKrjxHne"
      }
    },
    {
      "cell_type": "markdown",
      "source": [
        "In this notebook, Data Science Tools and Ecosystem are summarized.\n"
      ],
      "metadata": {
        "id": "4hPtiN3FyzLn"
      }
    },
    {
      "cell_type": "markdown",
      "source": [
        "Some of the popular languages that Data Scientists use are:\n",
        "\n",
        "1. Python\n",
        "2. R\n",
        "3. SQL\n",
        "4. Julia\n",
        "5. Java\n"
      ],
      "metadata": {
        "id": "trp02htxy3gM"
      }
    },
    {
      "cell_type": "markdown",
      "source": [
        "Some of the commonly used libraries used by Data Scientists include:\n",
        "\n",
        "1. Pandas\n",
        "2. NumPy\n",
        "3. Matplotlib\n",
        "4. Scikit-learn\n",
        "5. TensorFlow\n"
      ],
      "metadata": {
        "id": "2J3FK5s4zAVV"
      }
    },
    {
      "cell_type": "markdown",
      "source": [
        "| Data Science Tools |\n",
        "|--------------------|\n",
        "| Jupyter Notebook    |\n",
        "| RStudio             |\n",
        "| Apache Zeppelin     |\n"
      ],
      "metadata": {
        "id": "WxLxJfpFzHn7"
      }
    },
    {
      "cell_type": "markdown",
      "source": [
        "### Below are a few examples of evaluating arithmetic expressions in Python.\n"
      ],
      "metadata": {
        "id": "rYs-h_BJzRoc"
      }
    },
    {
      "cell_type": "code",
      "source": [
        "# This is a simple arithmetic expression to multiply then add integers\n",
        "(3 * 4) + 5\n"
      ],
      "metadata": {
        "colab": {
          "base_uri": "https://localhost:8080/"
        },
        "id": "TVoSLKQ2zaIE",
        "outputId": "62aa9101-529a-4679-fb2e-b53929f9a60f"
      },
      "execution_count": 1,
      "outputs": [
        {
          "output_type": "execute_result",
          "data": {
            "text/plain": [
              "17"
            ]
          },
          "metadata": {},
          "execution_count": 1
        }
      ]
    },
    {
      "cell_type": "code",
      "source": [
        "# This will convert 200 minutes to hours by dividing by 60\n",
        "200 / 60\n"
      ],
      "metadata": {
        "colab": {
          "base_uri": "https://localhost:8080/"
        },
        "id": "Jw8AK2gtz4WW",
        "outputId": "518ad481-7a36-4056-d739-8a7eb1e650d7"
      },
      "execution_count": 2,
      "outputs": [
        {
          "output_type": "execute_result",
          "data": {
            "text/plain": [
              "3.3333333333333335"
            ]
          },
          "metadata": {},
          "execution_count": 2
        }
      ]
    },
    {
      "cell_type": "markdown",
      "source": [
        "**Objectives:**\n",
        "\n",
        "- List popular languages for Data Science\n",
        "- List commonly used libraries in Data Science\n",
        "- List Data Science Tools\n",
        "- Perform arithmetic operations in Python\n"
      ],
      "metadata": {
        "id": "C91CEVQS0EPi"
      }
    },
    {
      "cell_type": "markdown",
      "source": [
        "## Author\n",
        "\n",
        "Rohan Yadav"
      ],
      "metadata": {
        "id": "AM-a-jJJ0HXl"
      }
    }
  ]
}